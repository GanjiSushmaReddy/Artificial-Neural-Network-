{
 "cells": [
  {
   "cell_type": "markdown",
   "id": "a9c0a31b",
   "metadata": {},
   "source": [
    "# Artificial Neural Network"
   ]
  },
  {
   "cell_type": "markdown",
   "id": "47c44ee4",
   "metadata": {},
   "source": [
    "### Importing Libraries"
   ]
  },
  {
   "cell_type": "code",
   "execution_count": 1,
   "id": "6de54d35",
   "metadata": {},
   "outputs": [],
   "source": [
    "import numpy as np\n",
    "import pandas as pd\n",
    "import tensorflow as tf"
   ]
  },
  {
   "cell_type": "code",
   "execution_count": 2,
   "id": "be164d7b",
   "metadata": {},
   "outputs": [
    {
     "data": {
      "text/plain": [
       "'2.9.1'"
      ]
     },
     "execution_count": 2,
     "metadata": {},
     "output_type": "execute_result"
    }
   ],
   "source": [
    "tf.__version__"
   ]
  },
  {
   "cell_type": "markdown",
   "id": "87204251",
   "metadata": {},
   "source": [
    "## PART-1: Data Preprocessing"
   ]
  },
  {
   "cell_type": "markdown",
   "id": "82dff665",
   "metadata": {},
   "source": [
    "### Importing Dataset"
   ]
  },
  {
   "cell_type": "code",
   "execution_count": 3,
   "id": "89f9d2eb",
   "metadata": {},
   "outputs": [
    {
     "name": "stdout",
     "output_type": "stream",
     "text": [
      "[[619 'France' 'Female' ... 1 1 101348.88]\n",
      " [608 'Spain' 'Female' ... 0 1 112542.58]\n",
      " [502 'France' 'Female' ... 1 0 113931.57]\n",
      " ...\n",
      " [709 'France' 'Female' ... 0 1 42085.58]\n",
      " [772 'Germany' 'Male' ... 1 0 92888.52]\n",
      " [792 'France' 'Female' ... 1 0 38190.78]]\n",
      "[1 0 1 ... 1 1 0]\n"
     ]
    }
   ],
   "source": [
    "dataset = pd.read_csv(\"Churn_Modelling.csv\")\n",
    "x = dataset.iloc[:,3:-1].values\n",
    "y = dataset.iloc[:,-1].values\n",
    "print(x)\n",
    "print(y)"
   ]
  },
  {
   "cell_type": "markdown",
   "id": "8a897c03",
   "metadata": {},
   "source": [
    "### Encoding Categorical Data"
   ]
  },
  {
   "cell_type": "markdown",
   "id": "1e5067b5",
   "metadata": {},
   "source": [
    "#### Label Encoding the Gender Column"
   ]
  },
  {
   "cell_type": "code",
   "execution_count": 4,
   "id": "bcef3b37",
   "metadata": {},
   "outputs": [
    {
     "name": "stdout",
     "output_type": "stream",
     "text": [
      "[[619 'France' 0 ... 1 1 101348.88]\n",
      " [608 'Spain' 0 ... 0 1 112542.58]\n",
      " [502 'France' 0 ... 1 0 113931.57]\n",
      " ...\n",
      " [709 'France' 0 ... 0 1 42085.58]\n",
      " [772 'Germany' 1 ... 1 0 92888.52]\n",
      " [792 'France' 0 ... 1 0 38190.78]]\n"
     ]
    }
   ],
   "source": [
    "from sklearn.preprocessing import LabelEncoder\n",
    "le = LabelEncoder()\n",
    "x[:,2] = le.fit_transform(x[:,2])\n",
    "print(x)"
   ]
  },
  {
   "cell_type": "markdown",
   "id": "2e867299",
   "metadata": {},
   "source": [
    "#### OneHot Encoding the Geographical column"
   ]
  },
  {
   "cell_type": "code",
   "execution_count": 5,
   "id": "c1261638",
   "metadata": {},
   "outputs": [
    {
     "name": "stdout",
     "output_type": "stream",
     "text": [
      "[[1.0 0.0 0.0 ... 1 1 101348.88]\n",
      " [0.0 0.0 1.0 ... 0 1 112542.58]\n",
      " [1.0 0.0 0.0 ... 1 0 113931.57]\n",
      " ...\n",
      " [1.0 0.0 0.0 ... 0 1 42085.58]\n",
      " [0.0 1.0 0.0 ... 1 0 92888.52]\n",
      " [1.0 0.0 0.0 ... 1 0 38190.78]]\n"
     ]
    }
   ],
   "source": [
    "from sklearn.compose import ColumnTransformer\n",
    "from sklearn.preprocessing import OneHotEncoder\n",
    "ct = ColumnTransformer(transformers=[('encoder',OneHotEncoder(),[1])], remainder=\"passthrough\")\n",
    "x = np.array(ct.fit_transform(x))\n",
    "print(x)"
   ]
  },
  {
   "cell_type": "markdown",
   "id": "27d6521b",
   "metadata": {},
   "source": [
    "### Splitting the dataset into the Training set and Test set"
   ]
  },
  {
   "cell_type": "code",
   "execution_count": 6,
   "id": "357b5894",
   "metadata": {},
   "outputs": [
    {
     "name": "stdout",
     "output_type": "stream",
     "text": [
      "[[0.0 1.0 0.0 ... 0 1 124749.08]\n",
      " [1.0 0.0 0.0 ... 0 0 41104.82]\n",
      " [0.0 1.0 0.0 ... 1 1 45750.21]\n",
      " ...\n",
      " [1.0 0.0 0.0 ... 1 1 92027.69]\n",
      " [1.0 0.0 0.0 ... 1 1 101168.9]\n",
      " [0.0 1.0 0.0 ... 1 0 33462.94]]\n"
     ]
    }
   ],
   "source": [
    "from sklearn.model_selection import train_test_split\n",
    "x_train,x_test,y_train,y_test=train_test_split(x,y,test_size=0.2,random_state=1)\n",
    "print(x_train)"
   ]
  },
  {
   "cell_type": "markdown",
   "id": "04082d22",
   "metadata": {},
   "source": [
    "### Feature Scaling"
   ]
  },
  {
   "cell_type": "code",
   "execution_count": 7,
   "id": "eb54ce1d",
   "metadata": {},
   "outputs": [],
   "source": [
    "from sklearn.preprocessing import StandardScaler\n",
    "sc = StandardScaler()\n",
    "x_train = sc.fit_transform(x_train) \n",
    "x_test = sc.transform(x_test) "
   ]
  },
  {
   "cell_type": "markdown",
   "id": "16ad7ed9",
   "metadata": {},
   "source": [
    "## PART-2: Building the ANN"
   ]
  },
  {
   "cell_type": "markdown",
   "id": "d4d466ac",
   "metadata": {},
   "source": [
    "### Initialising the ANN"
   ]
  },
  {
   "cell_type": "code",
   "execution_count": 8,
   "id": "b2a0a9f4",
   "metadata": {},
   "outputs": [
    {
     "name": "stderr",
     "output_type": "stream",
     "text": [
      "2022-06-29 15:43:28.551265: I tensorflow/core/platform/cpu_feature_guard.cc:193] This TensorFlow binary is optimized with oneAPI Deep Neural Network Library (oneDNN) to use the following CPU instructions in performance-critical operations:  AVX2 FMA\n",
      "To enable them in other operations, rebuild TensorFlow with the appropriate compiler flags.\n"
     ]
    }
   ],
   "source": [
    "ann = tf.keras.models.Sequential()"
   ]
  },
  {
   "cell_type": "markdown",
   "id": "84414445",
   "metadata": {},
   "source": [
    "### Adding the input layer and the first hidden layer"
   ]
  },
  {
   "cell_type": "code",
   "execution_count": 9,
   "id": "2f3a6fc1",
   "metadata": {},
   "outputs": [],
   "source": [
    "ann.add(tf.keras.layers.Dense(units=6,activation='relu')) # Rectifier activation function"
   ]
  },
  {
   "cell_type": "markdown",
   "id": "52dcaa88",
   "metadata": {},
   "source": [
    "### Adding the second hidden layer"
   ]
  },
  {
   "cell_type": "code",
   "execution_count": 10,
   "id": "a1bdda3c",
   "metadata": {},
   "outputs": [],
   "source": [
    "ann.add(tf.keras.layers.Dense(units=6,activation='relu'))"
   ]
  },
  {
   "cell_type": "markdown",
   "id": "cca6ed4f",
   "metadata": {},
   "source": [
    "### Adding the output layer"
   ]
  },
  {
   "cell_type": "code",
   "execution_count": 11,
   "id": "cea14c17",
   "metadata": {},
   "outputs": [],
   "source": [
    "ann.add(tf.keras.layers.Dense(units=1,activation='sigmoid')) # Binary output(1 or 0) # Sigmoid activation function # for non-binary(0,1,2,3..)---softmax activation function"
   ]
  },
  {
   "cell_type": "markdown",
   "id": "6eb6a2f6",
   "metadata": {},
   "source": [
    "## PART-3: Training the ANN"
   ]
  },
  {
   "cell_type": "markdown",
   "id": "ab2143bf",
   "metadata": {},
   "source": [
    "### Compiling the ANN"
   ]
  },
  {
   "cell_type": "code",
   "execution_count": 12,
   "id": "4e82cb78",
   "metadata": {},
   "outputs": [],
   "source": [
    "ann.compile(optimizer = 'adam', loss = 'binary_crossentropy', metrics = ['accuracy'])# adam = stochastic gradient decent # binary_crossetropy = for (0/1--output), for multiple categories: categorical_crossetropy = for(0,1,2,3(OneHot Encoded)---output) "
   ]
  },
  {
   "cell_type": "markdown",
   "id": "9a983d28",
   "metadata": {},
   "source": [
    "### Training the ANN on the Training set"
   ]
  },
  {
   "cell_type": "code",
   "execution_count": 13,
   "id": "3fe8917e",
   "metadata": {},
   "outputs": [
    {
     "name": "stdout",
     "output_type": "stream",
     "text": [
      "Epoch 1/100\n",
      "250/250 [==============================] - 1s 818us/step - loss: 0.5774 - accuracy: 0.7384\n",
      "Epoch 2/100\n",
      "250/250 [==============================] - 0s 803us/step - loss: 0.4670 - accuracy: 0.7975\n",
      "Epoch 3/100\n",
      "250/250 [==============================] - 0s 761us/step - loss: 0.4350 - accuracy: 0.8089\n",
      "Epoch 4/100\n",
      "250/250 [==============================] - 0s 744us/step - loss: 0.4200 - accuracy: 0.8183\n",
      "Epoch 5/100\n",
      "250/250 [==============================] - 0s 736us/step - loss: 0.4063 - accuracy: 0.8274\n",
      "Epoch 6/100\n",
      "250/250 [==============================] - 0s 748us/step - loss: 0.3914 - accuracy: 0.8370\n",
      "Epoch 7/100\n",
      "250/250 [==============================] - 0s 770us/step - loss: 0.3792 - accuracy: 0.8436\n",
      "Epoch 8/100\n",
      "250/250 [==============================] - 0s 805us/step - loss: 0.3704 - accuracy: 0.8481\n",
      "Epoch 9/100\n",
      "250/250 [==============================] - 0s 718us/step - loss: 0.3641 - accuracy: 0.8505\n",
      "Epoch 10/100\n",
      "250/250 [==============================] - 0s 708us/step - loss: 0.3595 - accuracy: 0.8508\n",
      "Epoch 11/100\n",
      "250/250 [==============================] - 0s 711us/step - loss: 0.3561 - accuracy: 0.8525\n",
      "Epoch 12/100\n",
      "250/250 [==============================] - 0s 723us/step - loss: 0.3532 - accuracy: 0.8539\n",
      "Epoch 13/100\n",
      "250/250 [==============================] - 0s 707us/step - loss: 0.3516 - accuracy: 0.8558\n",
      "Epoch 14/100\n",
      "250/250 [==============================] - 0s 716us/step - loss: 0.3497 - accuracy: 0.8572\n",
      "Epoch 15/100\n",
      "250/250 [==============================] - 0s 716us/step - loss: 0.3484 - accuracy: 0.8566\n",
      "Epoch 16/100\n",
      "250/250 [==============================] - 0s 713us/step - loss: 0.3473 - accuracy: 0.8585\n",
      "Epoch 17/100\n",
      "250/250 [==============================] - 0s 717us/step - loss: 0.3462 - accuracy: 0.8589\n",
      "Epoch 18/100\n",
      "250/250 [==============================] - 0s 716us/step - loss: 0.3455 - accuracy: 0.8584\n",
      "Epoch 19/100\n",
      "250/250 [==============================] - 0s 715us/step - loss: 0.3447 - accuracy: 0.8585\n",
      "Epoch 20/100\n",
      "250/250 [==============================] - 0s 721us/step - loss: 0.3445 - accuracy: 0.8600\n",
      "Epoch 21/100\n",
      "250/250 [==============================] - 0s 717us/step - loss: 0.3436 - accuracy: 0.8579\n",
      "Epoch 22/100\n",
      "250/250 [==============================] - 0s 714us/step - loss: 0.3432 - accuracy: 0.8596\n",
      "Epoch 23/100\n",
      "250/250 [==============================] - 0s 714us/step - loss: 0.3427 - accuracy: 0.8595\n",
      "Epoch 24/100\n",
      "250/250 [==============================] - 0s 722us/step - loss: 0.3422 - accuracy: 0.8602\n",
      "Epoch 25/100\n",
      "250/250 [==============================] - 0s 723us/step - loss: 0.3418 - accuracy: 0.8601\n",
      "Epoch 26/100\n",
      "250/250 [==============================] - 0s 717us/step - loss: 0.3416 - accuracy: 0.8612\n",
      "Epoch 27/100\n",
      "250/250 [==============================] - 0s 717us/step - loss: 0.3411 - accuracy: 0.8611\n",
      "Epoch 28/100\n",
      "250/250 [==============================] - 0s 716us/step - loss: 0.3407 - accuracy: 0.8618\n",
      "Epoch 29/100\n",
      "250/250 [==============================] - 0s 718us/step - loss: 0.3405 - accuracy: 0.8611\n",
      "Epoch 30/100\n",
      "250/250 [==============================] - 0s 720us/step - loss: 0.3401 - accuracy: 0.8616\n",
      "Epoch 31/100\n",
      "250/250 [==============================] - 0s 724us/step - loss: 0.3401 - accuracy: 0.8620\n",
      "Epoch 32/100\n",
      "250/250 [==============================] - 0s 720us/step - loss: 0.3397 - accuracy: 0.8605\n",
      "Epoch 33/100\n",
      "250/250 [==============================] - 0s 714us/step - loss: 0.3401 - accuracy: 0.8612\n",
      "Epoch 34/100\n",
      "250/250 [==============================] - 0s 715us/step - loss: 0.3392 - accuracy: 0.8620\n",
      "Epoch 35/100\n",
      "250/250 [==============================] - 0s 722us/step - loss: 0.3393 - accuracy: 0.8612\n",
      "Epoch 36/100\n",
      "250/250 [==============================] - 0s 722us/step - loss: 0.3390 - accuracy: 0.8622\n",
      "Epoch 37/100\n",
      "250/250 [==============================] - 0s 716us/step - loss: 0.3389 - accuracy: 0.8621\n",
      "Epoch 38/100\n",
      "250/250 [==============================] - 0s 726us/step - loss: 0.3387 - accuracy: 0.8621\n",
      "Epoch 39/100\n",
      "250/250 [==============================] - 0s 716us/step - loss: 0.3387 - accuracy: 0.8626\n",
      "Epoch 40/100\n",
      "250/250 [==============================] - 0s 722us/step - loss: 0.3378 - accuracy: 0.8635\n",
      "Epoch 41/100\n",
      "250/250 [==============================] - 0s 719us/step - loss: 0.3382 - accuracy: 0.8627\n",
      "Epoch 42/100\n",
      "250/250 [==============================] - 0s 756us/step - loss: 0.3379 - accuracy: 0.8620\n",
      "Epoch 43/100\n",
      "250/250 [==============================] - 0s 711us/step - loss: 0.3374 - accuracy: 0.8615\n",
      "Epoch 44/100\n",
      "250/250 [==============================] - 0s 724us/step - loss: 0.3375 - accuracy: 0.8614\n",
      "Epoch 45/100\n",
      "250/250 [==============================] - 0s 715us/step - loss: 0.3374 - accuracy: 0.8618\n",
      "Epoch 46/100\n",
      "250/250 [==============================] - 0s 718us/step - loss: 0.3372 - accuracy: 0.8615\n",
      "Epoch 47/100\n",
      "250/250 [==============================] - 0s 718us/step - loss: 0.3370 - accuracy: 0.8622\n",
      "Epoch 48/100\n",
      "250/250 [==============================] - 0s 719us/step - loss: 0.3373 - accuracy: 0.8625\n",
      "Epoch 49/100\n",
      "250/250 [==============================] - 0s 716us/step - loss: 0.3373 - accuracy: 0.8622\n",
      "Epoch 50/100\n",
      "250/250 [==============================] - 0s 715us/step - loss: 0.3369 - accuracy: 0.8616\n",
      "Epoch 51/100\n",
      "250/250 [==============================] - 0s 723us/step - loss: 0.3369 - accuracy: 0.8630\n",
      "Epoch 52/100\n",
      "250/250 [==============================] - 0s 728us/step - loss: 0.3367 - accuracy: 0.8627\n",
      "Epoch 53/100\n",
      "250/250 [==============================] - 0s 723us/step - loss: 0.3367 - accuracy: 0.8626\n",
      "Epoch 54/100\n",
      "250/250 [==============================] - 0s 702us/step - loss: 0.3364 - accuracy: 0.8620\n",
      "Epoch 55/100\n",
      "250/250 [==============================] - 0s 706us/step - loss: 0.3364 - accuracy: 0.8612\n",
      "Epoch 56/100\n",
      "250/250 [==============================] - 0s 712us/step - loss: 0.3364 - accuracy: 0.8630\n",
      "Epoch 57/100\n",
      "250/250 [==============================] - 0s 708us/step - loss: 0.3362 - accuracy: 0.8610\n",
      "Epoch 58/100\n",
      "250/250 [==============================] - 0s 717us/step - loss: 0.3362 - accuracy: 0.8619\n",
      "Epoch 59/100\n",
      "250/250 [==============================] - 0s 704us/step - loss: 0.3362 - accuracy: 0.8621\n",
      "Epoch 60/100\n",
      "250/250 [==============================] - 0s 709us/step - loss: 0.3363 - accuracy: 0.8619\n",
      "Epoch 61/100\n",
      "250/250 [==============================] - 0s 707us/step - loss: 0.3362 - accuracy: 0.8608\n",
      "Epoch 62/100\n",
      "250/250 [==============================] - 0s 715us/step - loss: 0.3359 - accuracy: 0.8621\n",
      "Epoch 63/100\n",
      "250/250 [==============================] - 0s 711us/step - loss: 0.3361 - accuracy: 0.8626\n",
      "Epoch 64/100\n",
      "250/250 [==============================] - 0s 785us/step - loss: 0.3354 - accuracy: 0.8626\n",
      "Epoch 65/100\n",
      "250/250 [==============================] - 0s 766us/step - loss: 0.3359 - accuracy: 0.8626\n",
      "Epoch 66/100\n",
      "250/250 [==============================] - 0s 710us/step - loss: 0.3354 - accuracy: 0.8625\n",
      "Epoch 67/100\n",
      "250/250 [==============================] - 0s 737us/step - loss: 0.3354 - accuracy: 0.8612\n",
      "Epoch 68/100\n",
      "250/250 [==============================] - 0s 701us/step - loss: 0.3357 - accuracy: 0.8635\n",
      "Epoch 69/100\n",
      "250/250 [==============================] - 0s 706us/step - loss: 0.3355 - accuracy: 0.8629\n",
      "Epoch 70/100\n",
      "250/250 [==============================] - 0s 713us/step - loss: 0.3353 - accuracy: 0.8627\n",
      "Epoch 71/100\n",
      "250/250 [==============================] - 0s 717us/step - loss: 0.3355 - accuracy: 0.8618\n",
      "Epoch 72/100\n",
      "250/250 [==============================] - 0s 701us/step - loss: 0.3354 - accuracy: 0.8633\n",
      "Epoch 73/100\n",
      "250/250 [==============================] - 0s 705us/step - loss: 0.3354 - accuracy: 0.8624\n",
      "Epoch 74/100\n",
      "250/250 [==============================] - 0s 707us/step - loss: 0.3354 - accuracy: 0.8624\n",
      "Epoch 75/100\n",
      "250/250 [==============================] - 0s 706us/step - loss: 0.3355 - accuracy: 0.8629\n",
      "Epoch 76/100\n",
      "250/250 [==============================] - 0s 715us/step - loss: 0.3349 - accuracy: 0.8622\n",
      "Epoch 77/100\n",
      "250/250 [==============================] - 0s 710us/step - loss: 0.3351 - accuracy: 0.8615\n",
      "Epoch 78/100\n",
      "250/250 [==============================] - 0s 710us/step - loss: 0.3349 - accuracy: 0.8612\n",
      "Epoch 79/100\n"
     ]
    },
    {
     "name": "stdout",
     "output_type": "stream",
     "text": [
      "250/250 [==============================] - 0s 709us/step - loss: 0.3350 - accuracy: 0.8635\n",
      "Epoch 80/100\n",
      "250/250 [==============================] - 0s 696us/step - loss: 0.3345 - accuracy: 0.8637\n",
      "Epoch 81/100\n",
      "250/250 [==============================] - 0s 706us/step - loss: 0.3348 - accuracy: 0.8618\n",
      "Epoch 82/100\n",
      "250/250 [==============================] - 0s 707us/step - loss: 0.3352 - accuracy: 0.8618\n",
      "Epoch 83/100\n",
      "250/250 [==============================] - 0s 708us/step - loss: 0.3346 - accuracy: 0.8627\n",
      "Epoch 84/100\n",
      "250/250 [==============================] - 0s 699us/step - loss: 0.3350 - accuracy: 0.8625\n",
      "Epoch 85/100\n",
      "250/250 [==============================] - 0s 708us/step - loss: 0.3343 - accuracy: 0.8630\n",
      "Epoch 86/100\n",
      "250/250 [==============================] - 0s 712us/step - loss: 0.3347 - accuracy: 0.8615\n",
      "Epoch 87/100\n",
      "250/250 [==============================] - 0s 710us/step - loss: 0.3342 - accuracy: 0.8608\n",
      "Epoch 88/100\n",
      "250/250 [==============================] - 0s 701us/step - loss: 0.3340 - accuracy: 0.8629\n",
      "Epoch 89/100\n",
      "250/250 [==============================] - 0s 705us/step - loss: 0.3347 - accuracy: 0.8636\n",
      "Epoch 90/100\n",
      "250/250 [==============================] - 0s 708us/step - loss: 0.3342 - accuracy: 0.8615\n",
      "Epoch 91/100\n",
      "250/250 [==============================] - 0s 711us/step - loss: 0.3341 - accuracy: 0.8624\n",
      "Epoch 92/100\n",
      "250/250 [==============================] - 0s 716us/step - loss: 0.3341 - accuracy: 0.8624\n",
      "Epoch 93/100\n",
      "250/250 [==============================] - 0s 703us/step - loss: 0.3340 - accuracy: 0.8614\n",
      "Epoch 94/100\n",
      "250/250 [==============================] - 0s 708us/step - loss: 0.3344 - accuracy: 0.8621\n",
      "Epoch 95/100\n",
      "250/250 [==============================] - 0s 701us/step - loss: 0.3345 - accuracy: 0.8620\n",
      "Epoch 96/100\n",
      "250/250 [==============================] - 0s 703us/step - loss: 0.3341 - accuracy: 0.8621\n",
      "Epoch 97/100\n",
      "250/250 [==============================] - 0s 710us/step - loss: 0.3342 - accuracy: 0.8634\n",
      "Epoch 98/100\n",
      "250/250 [==============================] - 0s 710us/step - loss: 0.3338 - accuracy: 0.8625\n",
      "Epoch 99/100\n",
      "250/250 [==============================] - 0s 708us/step - loss: 0.3339 - accuracy: 0.8620\n",
      "Epoch 100/100\n",
      "250/250 [==============================] - 0s 701us/step - loss: 0.3339 - accuracy: 0.8616\n"
     ]
    },
    {
     "data": {
      "text/plain": [
       "<keras.callbacks.History at 0x157dbefb0>"
      ]
     },
     "execution_count": 13,
     "metadata": {},
     "output_type": "execute_result"
    }
   ],
   "source": [
    "ann.fit(x_train,y_train, batch_size=32, epochs=100)# epochs means no. of iteratios"
   ]
  },
  {
   "cell_type": "markdown",
   "id": "af0b164d",
   "metadata": {},
   "source": [
    "## PART-4: Making the Predictions and Evaluating the model"
   ]
  },
  {
   "cell_type": "markdown",
   "id": "bdbca740",
   "metadata": {},
   "source": [
    "### Predicting the results of a single observation"
   ]
  },
  {
   "cell_type": "code",
   "execution_count": 14,
   "id": "af7e79d6",
   "metadata": {},
   "outputs": [
    {
     "name": "stdout",
     "output_type": "stream",
     "text": [
      "1/1 [==============================] - 0s 69ms/step\n",
      "[[0.01918231]]\n",
      "1/1 [==============================] - 0s 15ms/step\n",
      "[[False]]\n"
     ]
    }
   ],
   "source": [
    "print(ann.predict(sc.transform([[1,0,0,600,1,40,3,60000,2,1,1,50000]]))) # Probability \n",
    "print(ann.predict(sc.transform([[1,0,0,600,1,40,3,60000,2,1,1,50000]]))>0.5) # 1--exit, 0--stay"
   ]
  },
  {
   "cell_type": "markdown",
   "id": "f2663705",
   "metadata": {},
   "source": [
    "### Predict the test set results"
   ]
  },
  {
   "cell_type": "code",
   "execution_count": 15,
   "id": "46ef5701",
   "metadata": {},
   "outputs": [
    {
     "name": "stdout",
     "output_type": "stream",
     "text": [
      "63/63 [==============================] - 0s 611us/step\n",
      "[[0 0]\n",
      " [0 0]\n",
      " [0 0]\n",
      " ...\n",
      " [0 0]\n",
      " [0 0]\n",
      " [0 0]]\n"
     ]
    }
   ],
   "source": [
    "y_pred = ann.predict(x_test)\n",
    "y_pred = (y_pred>0.5)\n",
    "print(np.concatenate((y_pred.reshape(len(y_pred),1),y_test.reshape(len(y_test),1)),axis=1))"
   ]
  },
  {
   "cell_type": "code",
   "execution_count": 16,
   "id": "e603c4a5",
   "metadata": {},
   "outputs": [
    {
     "name": "stdout",
     "output_type": "stream",
     "text": [
      "[[1528   57]\n",
      " [ 208  207]]\n",
      "0.8675\n"
     ]
    }
   ],
   "source": [
    "from sklearn.metrics import confusion_matrix, accuracy_score\n",
    "print(confusion_matrix(y_test,y_pred))\n",
    "print(accuracy_score(y_test,y_pred))"
   ]
  },
  {
   "cell_type": "code",
   "execution_count": null,
   "id": "ead12c65",
   "metadata": {},
   "outputs": [],
   "source": []
  }
 ],
 "metadata": {
  "kernelspec": {
   "display_name": "Python 3 (ipykernel)",
   "language": "python",
   "name": "python3"
  },
  "language_info": {
   "codemirror_mode": {
    "name": "ipython",
    "version": 3
   },
   "file_extension": ".py",
   "mimetype": "text/x-python",
   "name": "python",
   "nbconvert_exporter": "python",
   "pygments_lexer": "ipython3",
   "version": "3.10.2"
  }
 },
 "nbformat": 4,
 "nbformat_minor": 5
}
